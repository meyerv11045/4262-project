{
 "cells": [
  {
   "cell_type": "code",
   "execution_count": 4,
   "metadata": {},
   "outputs": [],
   "source": [
    "import pandas as pd"
   ]
  },
  {
   "cell_type": "code",
   "execution_count": 6,
   "metadata": {},
   "outputs": [],
   "source": [
    "# Preprocess date dataset into train and test dataset\n",
    "data = pd.read_csv('date-data/original.csv')\n",
    "\n",
    "# Quantize the class labels \n",
    "data.replace(to_replace=['BERHI', 'DEGLET', 'DOKOL', 'IRAQI', 'ROTANA', 'SAFAVI', 'SOGAY'], value=[0, 1, 2, 3, 4, 5, 6], inplace=True)\n",
    "\n",
    "# remove a the unneeded 1st column in the dataset\n",
    "data.drop('Unnamed: 0', axis=1, inplace=True)\n",
    "\n",
    "# shuffle data in-place (all samples for a class are grouped together in original dataset)\n",
    "data = data.sample(frac=1, random_state=42).reset_index(drop=True)"
   ]
  },
  {
   "cell_type": "code",
   "execution_count": 11,
   "metadata": {},
   "outputs": [],
   "source": [
    "# Split 80/20 train test set\n",
    "train_m = int(data.shape[0] * 0.8)\n",
    "\n",
    "train = data.iloc[:train_m, :]\n",
    "test = data.iloc[train_m:,:]"
   ]
  },
  {
   "cell_type": "code",
   "execution_count": 21,
   "metadata": {},
   "outputs": [
    {
     "name": "stderr",
     "output_type": "stream",
     "text": [
      "/var/folders/rp/d2lk0nvx1p7dzrdm73zjww2h0000gn/T/ipykernel_35282/4181124404.py:13: SettingWithCopyWarning: \n",
      "A value is trying to be set on a copy of a slice from a DataFrame.\n",
      "Try using .loc[row_indexer,col_indexer] = value instead\n",
      "\n",
      "See the caveats in the documentation: https://pandas.pydata.org/pandas-docs/stable/user_guide/indexing.html#returning-a-view-versus-a-copy\n",
      "  train.loc[:, col] = (train.loc[:, col] - mean) / std\n",
      "/var/folders/rp/d2lk0nvx1p7dzrdm73zjww2h0000gn/T/ipykernel_35282/4181124404.py:14: SettingWithCopyWarning: \n",
      "A value is trying to be set on a copy of a slice from a DataFrame.\n",
      "Try using .loc[row_indexer,col_indexer] = value instead\n",
      "\n",
      "See the caveats in the documentation: https://pandas.pydata.org/pandas-docs/stable/user_guide/indexing.html#returning-a-view-versus-a-copy\n",
      "  test.loc[:, col] = (test.loc[:, col] - mean) / std\n"
     ]
    }
   ],
   "source": [
    "# Standardize train and test set based on mean and std of train set\n",
    "means = {}\n",
    "stds = {}\n",
    "\n",
    "for col in train:\n",
    "    if col != 'Class':\n",
    "        mean = train.loc[:, col].mean()\n",
    "        std = train.loc[:, col].std()\n",
    "\n",
    "        means[col] = mean\n",
    "        stds[col] = std\n",
    "\n",
    "        train.loc[:, col] = (train.loc[:, col] - mean) / std\n",
    "        test.loc[:, col] = (test.loc[:, col] - mean) / std"
   ]
  },
  {
   "cell_type": "code",
   "execution_count": null,
   "metadata": {},
   "outputs": [],
   "source": [
    "train.to_csv('date-data/train.csv', index=False)\n",
    "test.to_csv('date-data/test.csv', index=False)"
   ]
  }
 ],
 "metadata": {
  "interpreter": {
   "hash": "780a2c011053422c520cbf422b565c1ced2a7536a2b28a02cb3d3d7e7e53add8"
  },
  "kernelspec": {
   "display_name": "Python 3.8.2 ('project_env': venv)",
   "language": "python",
   "name": "python3"
  },
  "language_info": {
   "codemirror_mode": {
    "name": "ipython",
    "version": 3
   },
   "file_extension": ".py",
   "mimetype": "text/x-python",
   "name": "python",
   "nbconvert_exporter": "python",
   "pygments_lexer": "ipython3",
   "version": "3.8.2"
  },
  "orig_nbformat": 4
 },
 "nbformat": 4,
 "nbformat_minor": 2
}
