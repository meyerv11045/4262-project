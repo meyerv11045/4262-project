{
 "cells": [
  {
   "cell_type": "code",
   "execution_count": 2,
   "metadata": {},
   "outputs": [],
   "source": [
    "import numpy as np\n",
    "\n",
    "data = np.genfromtxt('./date-data/test.csv', delimiter=',', skip_header=1)"
   ]
  },
  {
   "cell_type": "code",
   "execution_count": 14,
   "metadata": {},
   "outputs": [
    {
     "name": "stdout",
     "output_type": "stream",
     "text": [
      "class 0: 16 ct, 8.89% of test set\n",
      "class 1: 20 ct, 11.11% of test set\n",
      "class 2: 34 ct, 18.89% of test set\n",
      "class 3: 15 ct, 8.33% of test set\n",
      "class 4: 39 ct, 21.67% of test set\n",
      "class 5: 42 ct, 23.33% of test set\n",
      "class 6: 14 ct, 7.78% of test set\n"
     ]
    }
   ],
   "source": [
    "a = data[:,-1]\n",
    "m = len(a)\n",
    "for i in range(7):\n",
    "    ct = 0\n",
    "    for j in range(len(a)):\n",
    "        if i == a[j]:\n",
    "            ct += 1\n",
    "    \n",
    "\n",
    "    print(f'class {i}: {ct} ct, {(ct/m)*100:.2f}% of test set')"
   ]
  },
  {
   "cell_type": "code",
   "execution_count": 15,
   "metadata": {},
   "outputs": [
    {
     "name": "stdout",
     "output_type": "stream",
     "text": [
      "class 0: 49 ct, 6.82% of test set\n",
      "class 1: 78 ct, 10.86% of test set\n",
      "class 2: 170 ct, 23.68% of test set\n",
      "class 3: 57 ct, 7.94% of test set\n",
      "class 4: 127 ct, 17.69% of test set\n",
      "class 5: 157 ct, 21.87% of test set\n",
      "class 6: 80 ct, 11.14% of test set\n"
     ]
    }
   ],
   "source": [
    "data = np.genfromtxt('./date-data/train.csv', delimiter=',', skip_header=1)\n",
    "\n",
    "a = data[:,-1]\n",
    "m = len(a)\n",
    "for i in range(7):\n",
    "    ct = 0\n",
    "    for j in range(len(a)):\n",
    "        if i == a[j]:\n",
    "            ct += 1\n",
    "    \n",
    "\n",
    "    print(f'class {i}: {ct} ct, {(ct/m)*100:.2f}% of train set')"
   ]
  }
 ],
 "metadata": {
  "interpreter": {
   "hash": "780a2c011053422c520cbf422b565c1ced2a7536a2b28a02cb3d3d7e7e53add8"
  },
  "kernelspec": {
   "display_name": "Python 3.8.2 ('project_env': venv)",
   "language": "python",
   "name": "python3"
  },
  "language_info": {
   "codemirror_mode": {
    "name": "ipython",
    "version": 3
   },
   "file_extension": ".py",
   "mimetype": "text/x-python",
   "name": "python",
   "nbconvert_exporter": "python",
   "pygments_lexer": "ipython3",
   "version": "3.8.2"
  },
  "orig_nbformat": 4
 },
 "nbformat": 4,
 "nbformat_minor": 2
}
